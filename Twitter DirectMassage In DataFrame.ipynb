{
 "cells": [
  {
   "cell_type": "code",
   "execution_count": 143,
   "metadata": {},
   "outputs": [],
   "source": [
    "import tweepy \n",
    "import textblob"
   ]
  },
  {
   "cell_type": "code",
   "execution_count": 144,
   "metadata": {},
   "outputs": [],
   "source": [
    "#assign the values accordingly \n",
    "consumer_key = \"xgkA30ZnNtxpx5rZ4M2ZeADyt\" \n",
    "consumer_secret = \"xUiCmURo5NVXYVeNrL2pvO8br4B355zGBWrAwOCfa1L1yweZtE\" \n",
    "access_token = \"1184086168608088064-hwTgw3BlCLH3pdQEO4nevUjJIDLyl0\" \n",
    "access_token_secret = \"meD6jTMkQwM6ZJw4nGl4B9LEYYPTbviObhanGjTLY6U4r\" \n",
    "\n",
    "# authorization of consumer key and consumer secret \n",
    "auth = tweepy.OAuthHandler(consumer_key, consumer_secret) \n",
    "\n",
    "# set access to user's access key and access secret \n",
    "auth.set_access_token(access_token, access_token_secret) \n",
    "\n",
    "\n",
    "# calling the api \n",
    "api = tweepy.API(auth) "
   ]
  },
  {
   "cell_type": "code",
   "execution_count": 145,
   "metadata": {},
   "outputs": [],
   "source": [
    "ms = api.list_direct_messages()"
   ]
  },
  {
   "cell_type": "code",
   "execution_count": 146,
   "metadata": {},
   "outputs": [
    {
     "name": "stdout",
     "output_type": "stream",
     "text": [
      "[DirectMessage(_api=<tweepy.api.API object at 0x7ff58fd02910>, _json={'type': 'message_create', 'id': '1326954975344341000', 'created_timestamp': '1605205694410', 'message_create': {'target': {'recipient_id': '1184086168608088064'}, 'sender_id': '1200030997338869761', 'message_data': {'text': 'Link for cv https://t.co/C8QfhgJSSN', 'entities': {'hashtags': [], 'symbols': [], 'user_mentions': [], 'urls': [{'url': 'https://t.co/C8QfhgJSSN', 'expanded_url': 'https://t.me/c/1120704237/298', 'display_url': 't.me/c/1120704237/2…', 'indices': [12, 35]}]}}}}, type='message_create', id='1326954975344341000', created_timestamp='1605205694410', message_create={'target': {'recipient_id': '1184086168608088064'}, 'sender_id': '1200030997338869761', 'message_data': {'text': 'Link for cv https://t.co/C8QfhgJSSN', 'entities': {'hashtags': [], 'symbols': [], 'user_mentions': [], 'urls': [{'url': 'https://t.co/C8QfhgJSSN', 'expanded_url': 'https://t.me/c/1120704237/298', 'display_url': 't.me/c/1120704237/2…', 'indices': [12, 35]}]}}}), DirectMessage(_api=<tweepy.api.API object at 0x7ff58fd02910>, _json={'type': 'message_create', 'id': '1326949920583114764', 'created_timestamp': '1605204489261', 'message_create': {'target': {'recipient_id': '1184086168608088064'}, 'sender_id': '1200030997338869761', 'message_data': {'text': 'وهذا ايميلي qualitymeshal@gmail.com', 'entities': {'hashtags': [], 'symbols': [], 'user_mentions': [], 'urls': []}}}}, type='message_create', id='1326949920583114764', created_timestamp='1605204489261', message_create={'target': {'recipient_id': '1184086168608088064'}, 'sender_id': '1200030997338869761', 'message_data': {'text': 'وهذا ايميلي qualitymeshal@gmail.com', 'entities': {'hashtags': [], 'symbols': [], 'user_mentions': [], 'urls': []}}}), DirectMessage(_api=<tweepy.api.API object at 0x7ff58fd02910>, _json={'type': 'message_create', 'id': '1326949766803107844', 'created_timestamp': '1605204452597', 'message_create': {'target': {'recipient_id': '1184086168608088064'}, 'sender_id': '1200030997338869761', 'message_data': {'text': 'وهذا الايميل https://t.co/jDk49LUeBu', 'entities': {'hashtags': [], 'symbols': [], 'user_mentions': [], 'urls': [{'url': 'https://t.co/jDk49LUeBu', 'expanded_url': 'https://twitter.com/messages/media/1326949766803107844', 'display_url': 'pic.twitter.com/jDk49LUeBu', 'indices': [13, 36]}]}, 'attachment': {'type': 'media', 'media': {'id': 1326949757554712579, 'id_str': '1326949757554712579', 'indices': [13, 36], 'media_url': 'https://ton.twitter.com/1.1/ton/data/dm/1326949766803107844/1326949757554712579/tdR1ZsVi.jpg', 'media_url_https': 'https://ton.twitter.com/1.1/ton/data/dm/1326949766803107844/1326949757554712579/tdR1ZsVi.jpg', 'url': 'https://t.co/jDk49LUeBu', 'display_url': 'pic.twitter.com/jDk49LUeBu', 'expanded_url': 'https://twitter.com/messages/media/1326949766803107844', 'type': 'photo', 'sizes': {'small': {'w': 680, 'h': 314, 'resize': 'fit'}, 'thumb': {'w': 150, 'h': 150, 'resize': 'crop'}, 'medium': {'w': 1200, 'h': 554, 'resize': 'fit'}, 'large': {'w': 2048, 'h': 946, 'resize': 'fit'}}}}}}}, type='message_create', id='1326949766803107844', created_timestamp='1605204452597', message_create={'target': {'recipient_id': '1184086168608088064'}, 'sender_id': '1200030997338869761', 'message_data': {'text': 'وهذا الايميل https://t.co/jDk49LUeBu', 'entities': {'hashtags': [], 'symbols': [], 'user_mentions': [], 'urls': [{'url': 'https://t.co/jDk49LUeBu', 'expanded_url': 'https://twitter.com/messages/media/1326949766803107844', 'display_url': 'pic.twitter.com/jDk49LUeBu', 'indices': [13, 36]}]}, 'attachment': {'type': 'media', 'media': {'id': 1326949757554712579, 'id_str': '1326949757554712579', 'indices': [13, 36], 'media_url': 'https://ton.twitter.com/1.1/ton/data/dm/1326949766803107844/1326949757554712579/tdR1ZsVi.jpg', 'media_url_https': 'https://ton.twitter.com/1.1/ton/data/dm/1326949766803107844/1326949757554712579/tdR1ZsVi.jpg', 'url': 'https://t.co/jDk49LUeBu', 'display_url': 'pic.twitter.com/jDk49LUeBu', 'expanded_url': 'https://twitter.com/messages/media/1326949766803107844', 'type': 'photo', 'sizes': {'small': {'w': 680, 'h': 314, 'resize': 'fit'}, 'thumb': {'w': 150, 'h': 150, 'resize': 'crop'}, 'medium': {'w': 1200, 'h': 554, 'resize': 'fit'}, 'large': {'w': 2048, 'h': 946, 'resize': 'fit'}}}}}}), DirectMessage(_api=<tweepy.api.API object at 0x7ff58fd02910>, _json={'type': 'message_create', 'id': '1326949696259182596', 'created_timestamp': '1605204435778', 'message_create': {'target': {'recipient_id': '1184086168608088064'}, 'sender_id': '1200030997338869761', 'message_data': {'text': 'وهذه صوره ثانيه', 'entities': {'hashtags': [], 'symbols': [], 'user_mentions': [], 'urls': []}}}}, type='message_create', id='1326949696259182596', created_timestamp='1605204435778', message_create={'target': {'recipient_id': '1184086168608088064'}, 'sender_id': '1200030997338869761', 'message_data': {'text': 'وهذه صوره ثانيه', 'entities': {'hashtags': [], 'symbols': [], 'user_mentions': [], 'urls': []}}}), DirectMessage(_api=<tweepy.api.API object at 0x7ff58fd02910>, _json={'type': 'message_create', 'id': '1326949643394093076', 'created_timestamp': '1605204423174', 'message_create': {'target': {'recipient_id': '1184086168608088064'}, 'sender_id': '1200030997338869761', 'message_data': {'text': 'هذا نص بالعربي', 'entities': {'hashtags': [], 'symbols': [], 'user_mentions': [], 'urls': []}}}}, type='message_create', id='1326949643394093076', created_timestamp='1605204423174', message_create={'target': {'recipient_id': '1184086168608088064'}, 'sender_id': '1200030997338869761', 'message_data': {'text': 'هذا نص بالعربي', 'entities': {'hashtags': [], 'symbols': [], 'user_mentions': [], 'urls': []}}}), DirectMessage(_api=<tweepy.api.API object at 0x7ff58fd02910>, _json={'type': 'message_create', 'id': '1326556889883291653', 'created_timestamp': '1605110783440', 'message_create': {'target': {'recipient_id': '1184086168608088064'}, 'sender_id': '1200030997338869761', 'message_data': {'text': 'Just text', 'entities': {'hashtags': [], 'symbols': [], 'user_mentions': [], 'urls': []}}}}, type='message_create', id='1326556889883291653', created_timestamp='1605110783440', message_create={'target': {'recipient_id': '1184086168608088064'}, 'sender_id': '1200030997338869761', 'message_data': {'text': 'Just text', 'entities': {'hashtags': [], 'symbols': [], 'user_mentions': [], 'urls': []}}}), DirectMessage(_api=<tweepy.api.API object at 0x7ff58fd02910>, _json={'type': 'message_create', 'id': '1326556808178229255', 'created_timestamp': '1605110763960', 'message_create': {'target': {'recipient_id': '1184086168608088064'}, 'sender_id': '1200030997338869761', 'message_data': {'text': '2 world https://t.co/BKKascpcPe', 'entities': {'hashtags': [], 'symbols': [], 'user_mentions': [], 'urls': [{'url': 'https://t.co/BKKascpcPe', 'expanded_url': 'https://twitter.com/messages/media/1326556808178229255', 'display_url': 'pic.twitter.com/BKKascpcPe', 'indices': [8, 31]}]}, 'attachment': {'type': 'media', 'media': {'id': 1326556798229286914, 'id_str': '1326556798229286914', 'indices': [8, 31], 'media_url': 'https://ton.twitter.com/1.1/ton/data/dm/1326556808178229255/1326556798229286914/IjVtSDwR.jpg', 'media_url_https': 'https://ton.twitter.com/1.1/ton/data/dm/1326556808178229255/1326556798229286914/IjVtSDwR.jpg', 'url': 'https://t.co/BKKascpcPe', 'display_url': 'pic.twitter.com/BKKascpcPe', 'expanded_url': 'https://twitter.com/messages/media/1326556808178229255', 'type': 'photo', 'sizes': {'small': {'w': 680, 'h': 314, 'resize': 'fit'}, 'thumb': {'w': 150, 'h': 150, 'resize': 'crop'}, 'medium': {'w': 1200, 'h': 554, 'resize': 'fit'}, 'large': {'w': 2048, 'h': 946, 'resize': 'fit'}}}}}}}, type='message_create', id='1326556808178229255', created_timestamp='1605110763960', message_create={'target': {'recipient_id': '1184086168608088064'}, 'sender_id': '1200030997338869761', 'message_data': {'text': '2 world https://t.co/BKKascpcPe', 'entities': {'hashtags': [], 'symbols': [], 'user_mentions': [], 'urls': [{'url': 'https://t.co/BKKascpcPe', 'expanded_url': 'https://twitter.com/messages/media/1326556808178229255', 'display_url': 'pic.twitter.com/BKKascpcPe', 'indices': [8, 31]}]}, 'attachment': {'type': 'media', 'media': {'id': 1326556798229286914, 'id_str': '1326556798229286914', 'indices': [8, 31], 'media_url': 'https://ton.twitter.com/1.1/ton/data/dm/1326556808178229255/1326556798229286914/IjVtSDwR.jpg', 'media_url_https': 'https://ton.twitter.com/1.1/ton/data/dm/1326556808178229255/1326556798229286914/IjVtSDwR.jpg', 'url': 'https://t.co/BKKascpcPe', 'display_url': 'pic.twitter.com/BKKascpcPe', 'expanded_url': 'https://twitter.com/messages/media/1326556808178229255', 'type': 'photo', 'sizes': {'small': {'w': 680, 'h': 314, 'resize': 'fit'}, 'thumb': {'w': 150, 'h': 150, 'resize': 'crop'}, 'medium': {'w': 1200, 'h': 554, 'resize': 'fit'}, 'large': {'w': 2048, 'h': 946, 'resize': 'fit'}}}}}}), DirectMessage(_api=<tweepy.api.API object at 0x7ff58fd02910>, _json={'type': 'message_create', 'id': '1326496684440956932', 'created_timestamp': '1605096429344', 'message_create': {'target': {'recipient_id': '1184086168608088064'}, 'sender_id': '1200030997338869761', 'message_data': {'text': 'Hi thers https://t.co/rzTMC0fGIb', 'entities': {'hashtags': [], 'symbols': [], 'user_mentions': [], 'urls': [{'url': 'https://t.co/rzTMC0fGIb', 'expanded_url': 'https://twitter.com/messages/media/1326496684440956932', 'display_url': 'pic.twitter.com/rzTMC0fGIb', 'indices': [9, 32]}]}, 'attachment': {'type': 'media', 'media': {'id': 1326496674307563527, 'id_str': '1326496674307563527', 'indices': [9, 32], 'media_url': 'https://ton.twitter.com/1.1/ton/data/dm/1326496684440956932/1326496674307563527/C-GPPmmY.jpg', 'media_url_https': 'https://ton.twitter.com/1.1/ton/data/dm/1326496684440956932/1326496674307563527/C-GPPmmY.jpg', 'url': 'https://t.co/rzTMC0fGIb', 'display_url': 'pic.twitter.com/rzTMC0fGIb', 'expanded_url': 'https://twitter.com/messages/media/1326496684440956932', 'type': 'photo', 'sizes': {'thumb': {'w': 150, 'h': 150, 'resize': 'crop'}, 'small': {'w': 493, 'h': 680, 'resize': 'fit'}, 'medium': {'w': 870, 'h': 1200, 'resize': 'fit'}, 'large': {'w': 913, 'h': 1260, 'resize': 'fit'}}}}}}}, type='message_create', id='1326496684440956932', created_timestamp='1605096429344', message_create={'target': {'recipient_id': '1184086168608088064'}, 'sender_id': '1200030997338869761', 'message_data': {'text': 'Hi thers https://t.co/rzTMC0fGIb', 'entities': {'hashtags': [], 'symbols': [], 'user_mentions': [], 'urls': [{'url': 'https://t.co/rzTMC0fGIb', 'expanded_url': 'https://twitter.com/messages/media/1326496684440956932', 'display_url': 'pic.twitter.com/rzTMC0fGIb', 'indices': [9, 32]}]}, 'attachment': {'type': 'media', 'media': {'id': 1326496674307563527, 'id_str': '1326496674307563527', 'indices': [9, 32], 'media_url': 'https://ton.twitter.com/1.1/ton/data/dm/1326496684440956932/1326496674307563527/C-GPPmmY.jpg', 'media_url_https': 'https://ton.twitter.com/1.1/ton/data/dm/1326496684440956932/1326496674307563527/C-GPPmmY.jpg', 'url': 'https://t.co/rzTMC0fGIb', 'display_url': 'pic.twitter.com/rzTMC0fGIb', 'expanded_url': 'https://twitter.com/messages/media/1326496684440956932', 'type': 'photo', 'sizes': {'thumb': {'w': 150, 'h': 150, 'resize': 'crop'}, 'small': {'w': 493, 'h': 680, 'resize': 'fit'}, 'medium': {'w': 870, 'h': 1200, 'resize': 'fit'}, 'large': {'w': 913, 'h': 1260, 'resize': 'fit'}}}}}})]\n"
     ]
    }
   ],
   "source": [
    "print (ms)"
   ]
  },
  {
   "cell_type": "code",
   "execution_count": 148,
   "metadata": {},
   "outputs": [],
   "source": [
    "direct_message = api.list_direct_messages(count = 10)"
   ]
  },
  {
   "cell_type": "code",
   "execution_count": 149,
   "metadata": {
    "scrolled": true
   },
   "outputs": [
    {
     "name": "stdout",
     "output_type": "stream",
     "text": [
      "[DirectMessage(_api=<tweepy.api.API object at 0x7ff58fd02910>, _json={'type': 'message_create', 'id': '1326954975344341000', 'created_timestamp': '1605205694410', 'message_create': {'target': {'recipient_id': '1184086168608088064'}, 'sender_id': '1200030997338869761', 'message_data': {'text': 'Link for cv https://t.co/C8QfhgJSSN', 'entities': {'hashtags': [], 'symbols': [], 'user_mentions': [], 'urls': [{'url': 'https://t.co/C8QfhgJSSN', 'expanded_url': 'https://t.me/c/1120704237/298', 'display_url': 't.me/c/1120704237/2…', 'indices': [12, 35]}]}}}}, type='message_create', id='1326954975344341000', created_timestamp='1605205694410', message_create={'target': {'recipient_id': '1184086168608088064'}, 'sender_id': '1200030997338869761', 'message_data': {'text': 'Link for cv https://t.co/C8QfhgJSSN', 'entities': {'hashtags': [], 'symbols': [], 'user_mentions': [], 'urls': [{'url': 'https://t.co/C8QfhgJSSN', 'expanded_url': 'https://t.me/c/1120704237/298', 'display_url': 't.me/c/1120704237/2…', 'indices': [12, 35]}]}}}), DirectMessage(_api=<tweepy.api.API object at 0x7ff58fd02910>, _json={'type': 'message_create', 'id': '1326949920583114764', 'created_timestamp': '1605204489261', 'message_create': {'target': {'recipient_id': '1184086168608088064'}, 'sender_id': '1200030997338869761', 'message_data': {'text': 'وهذا ايميلي qualitymeshal@gmail.com', 'entities': {'hashtags': [], 'symbols': [], 'user_mentions': [], 'urls': []}}}}, type='message_create', id='1326949920583114764', created_timestamp='1605204489261', message_create={'target': {'recipient_id': '1184086168608088064'}, 'sender_id': '1200030997338869761', 'message_data': {'text': 'وهذا ايميلي qualitymeshal@gmail.com', 'entities': {'hashtags': [], 'symbols': [], 'user_mentions': [], 'urls': []}}}), DirectMessage(_api=<tweepy.api.API object at 0x7ff58fd02910>, _json={'type': 'message_create', 'id': '1326949766803107844', 'created_timestamp': '1605204452597', 'message_create': {'target': {'recipient_id': '1184086168608088064'}, 'sender_id': '1200030997338869761', 'message_data': {'text': 'وهذا الايميل https://t.co/jDk49LUeBu', 'entities': {'hashtags': [], 'symbols': [], 'user_mentions': [], 'urls': [{'url': 'https://t.co/jDk49LUeBu', 'expanded_url': 'https://twitter.com/messages/media/1326949766803107844', 'display_url': 'pic.twitter.com/jDk49LUeBu', 'indices': [13, 36]}]}, 'attachment': {'type': 'media', 'media': {'id': 1326949757554712579, 'id_str': '1326949757554712579', 'indices': [13, 36], 'media_url': 'https://ton.twitter.com/1.1/ton/data/dm/1326949766803107844/1326949757554712579/tdR1ZsVi.jpg', 'media_url_https': 'https://ton.twitter.com/1.1/ton/data/dm/1326949766803107844/1326949757554712579/tdR1ZsVi.jpg', 'url': 'https://t.co/jDk49LUeBu', 'display_url': 'pic.twitter.com/jDk49LUeBu', 'expanded_url': 'https://twitter.com/messages/media/1326949766803107844', 'type': 'photo', 'sizes': {'small': {'w': 680, 'h': 314, 'resize': 'fit'}, 'thumb': {'w': 150, 'h': 150, 'resize': 'crop'}, 'medium': {'w': 1200, 'h': 554, 'resize': 'fit'}, 'large': {'w': 2048, 'h': 946, 'resize': 'fit'}}}}}}}, type='message_create', id='1326949766803107844', created_timestamp='1605204452597', message_create={'target': {'recipient_id': '1184086168608088064'}, 'sender_id': '1200030997338869761', 'message_data': {'text': 'وهذا الايميل https://t.co/jDk49LUeBu', 'entities': {'hashtags': [], 'symbols': [], 'user_mentions': [], 'urls': [{'url': 'https://t.co/jDk49LUeBu', 'expanded_url': 'https://twitter.com/messages/media/1326949766803107844', 'display_url': 'pic.twitter.com/jDk49LUeBu', 'indices': [13, 36]}]}, 'attachment': {'type': 'media', 'media': {'id': 1326949757554712579, 'id_str': '1326949757554712579', 'indices': [13, 36], 'media_url': 'https://ton.twitter.com/1.1/ton/data/dm/1326949766803107844/1326949757554712579/tdR1ZsVi.jpg', 'media_url_https': 'https://ton.twitter.com/1.1/ton/data/dm/1326949766803107844/1326949757554712579/tdR1ZsVi.jpg', 'url': 'https://t.co/jDk49LUeBu', 'display_url': 'pic.twitter.com/jDk49LUeBu', 'expanded_url': 'https://twitter.com/messages/media/1326949766803107844', 'type': 'photo', 'sizes': {'small': {'w': 680, 'h': 314, 'resize': 'fit'}, 'thumb': {'w': 150, 'h': 150, 'resize': 'crop'}, 'medium': {'w': 1200, 'h': 554, 'resize': 'fit'}, 'large': {'w': 2048, 'h': 946, 'resize': 'fit'}}}}}}), DirectMessage(_api=<tweepy.api.API object at 0x7ff58fd02910>, _json={'type': 'message_create', 'id': '1326949696259182596', 'created_timestamp': '1605204435778', 'message_create': {'target': {'recipient_id': '1184086168608088064'}, 'sender_id': '1200030997338869761', 'message_data': {'text': 'وهذه صوره ثانيه', 'entities': {'hashtags': [], 'symbols': [], 'user_mentions': [], 'urls': []}}}}, type='message_create', id='1326949696259182596', created_timestamp='1605204435778', message_create={'target': {'recipient_id': '1184086168608088064'}, 'sender_id': '1200030997338869761', 'message_data': {'text': 'وهذه صوره ثانيه', 'entities': {'hashtags': [], 'symbols': [], 'user_mentions': [], 'urls': []}}}), DirectMessage(_api=<tweepy.api.API object at 0x7ff58fd02910>, _json={'type': 'message_create', 'id': '1326949643394093076', 'created_timestamp': '1605204423174', 'message_create': {'target': {'recipient_id': '1184086168608088064'}, 'sender_id': '1200030997338869761', 'message_data': {'text': 'هذا نص بالعربي', 'entities': {'hashtags': [], 'symbols': [], 'user_mentions': [], 'urls': []}}}}, type='message_create', id='1326949643394093076', created_timestamp='1605204423174', message_create={'target': {'recipient_id': '1184086168608088064'}, 'sender_id': '1200030997338869761', 'message_data': {'text': 'هذا نص بالعربي', 'entities': {'hashtags': [], 'symbols': [], 'user_mentions': [], 'urls': []}}}), DirectMessage(_api=<tweepy.api.API object at 0x7ff58fd02910>, _json={'type': 'message_create', 'id': '1326556889883291653', 'created_timestamp': '1605110783440', 'message_create': {'target': {'recipient_id': '1184086168608088064'}, 'sender_id': '1200030997338869761', 'message_data': {'text': 'Just text', 'entities': {'hashtags': [], 'symbols': [], 'user_mentions': [], 'urls': []}}}}, type='message_create', id='1326556889883291653', created_timestamp='1605110783440', message_create={'target': {'recipient_id': '1184086168608088064'}, 'sender_id': '1200030997338869761', 'message_data': {'text': 'Just text', 'entities': {'hashtags': [], 'symbols': [], 'user_mentions': [], 'urls': []}}}), DirectMessage(_api=<tweepy.api.API object at 0x7ff58fd02910>, _json={'type': 'message_create', 'id': '1326556808178229255', 'created_timestamp': '1605110763960', 'message_create': {'target': {'recipient_id': '1184086168608088064'}, 'sender_id': '1200030997338869761', 'message_data': {'text': '2 world https://t.co/BKKascpcPe', 'entities': {'hashtags': [], 'symbols': [], 'user_mentions': [], 'urls': [{'url': 'https://t.co/BKKascpcPe', 'expanded_url': 'https://twitter.com/messages/media/1326556808178229255', 'display_url': 'pic.twitter.com/BKKascpcPe', 'indices': [8, 31]}]}, 'attachment': {'type': 'media', 'media': {'id': 1326556798229286914, 'id_str': '1326556798229286914', 'indices': [8, 31], 'media_url': 'https://ton.twitter.com/1.1/ton/data/dm/1326556808178229255/1326556798229286914/IjVtSDwR.jpg', 'media_url_https': 'https://ton.twitter.com/1.1/ton/data/dm/1326556808178229255/1326556798229286914/IjVtSDwR.jpg', 'url': 'https://t.co/BKKascpcPe', 'display_url': 'pic.twitter.com/BKKascpcPe', 'expanded_url': 'https://twitter.com/messages/media/1326556808178229255', 'type': 'photo', 'sizes': {'small': {'w': 680, 'h': 314, 'resize': 'fit'}, 'thumb': {'w': 150, 'h': 150, 'resize': 'crop'}, 'medium': {'w': 1200, 'h': 554, 'resize': 'fit'}, 'large': {'w': 2048, 'h': 946, 'resize': 'fit'}}}}}}}, type='message_create', id='1326556808178229255', created_timestamp='1605110763960', message_create={'target': {'recipient_id': '1184086168608088064'}, 'sender_id': '1200030997338869761', 'message_data': {'text': '2 world https://t.co/BKKascpcPe', 'entities': {'hashtags': [], 'symbols': [], 'user_mentions': [], 'urls': [{'url': 'https://t.co/BKKascpcPe', 'expanded_url': 'https://twitter.com/messages/media/1326556808178229255', 'display_url': 'pic.twitter.com/BKKascpcPe', 'indices': [8, 31]}]}, 'attachment': {'type': 'media', 'media': {'id': 1326556798229286914, 'id_str': '1326556798229286914', 'indices': [8, 31], 'media_url': 'https://ton.twitter.com/1.1/ton/data/dm/1326556808178229255/1326556798229286914/IjVtSDwR.jpg', 'media_url_https': 'https://ton.twitter.com/1.1/ton/data/dm/1326556808178229255/1326556798229286914/IjVtSDwR.jpg', 'url': 'https://t.co/BKKascpcPe', 'display_url': 'pic.twitter.com/BKKascpcPe', 'expanded_url': 'https://twitter.com/messages/media/1326556808178229255', 'type': 'photo', 'sizes': {'small': {'w': 680, 'h': 314, 'resize': 'fit'}, 'thumb': {'w': 150, 'h': 150, 'resize': 'crop'}, 'medium': {'w': 1200, 'h': 554, 'resize': 'fit'}, 'large': {'w': 2048, 'h': 946, 'resize': 'fit'}}}}}})]\n"
     ]
    }
   ],
   "source": [
    "print (direct_message)"
   ]
  },
  {
   "cell_type": "code",
   "execution_count": 150,
   "metadata": {},
   "outputs": [
    {
     "name": "stdout",
     "output_type": "stream",
     "text": [
      "The ID is :1326954975344341000\n",
      "The Time is :1605205694410\n",
      "The Type is :message_create\n",
      "{'recipient_id': '1184086168608088064'}\n",
      "The Text is :Link for cv https://t.co/C8QfhgJSSN\n",
      "The ID is :1326949920583114764\n",
      "The Time is :1605204489261\n",
      "The Type is :message_create\n",
      "{'recipient_id': '1184086168608088064'}\n",
      "The Text is :وهذا ايميلي qualitymeshal@gmail.com\n",
      "The ID is :1326949766803107844\n",
      "The Time is :1605204452597\n",
      "The Type is :message_create\n",
      "{'recipient_id': '1184086168608088064'}\n",
      "The Text is :وهذا الايميل https://t.co/jDk49LUeBu\n",
      "The ID is :1326949696259182596\n",
      "The Time is :1605204435778\n",
      "The Type is :message_create\n",
      "{'recipient_id': '1184086168608088064'}\n",
      "The Text is :وهذه صوره ثانيه\n",
      "The ID is :1326949643394093076\n",
      "The Time is :1605204423174\n",
      "The Type is :message_create\n",
      "{'recipient_id': '1184086168608088064'}\n",
      "The Text is :هذا نص بالعربي\n",
      "The ID is :1326556889883291653\n",
      "The Time is :1605110783440\n",
      "The Type is :message_create\n",
      "{'recipient_id': '1184086168608088064'}\n",
      "The Text is :Just text\n",
      "The ID is :1326556808178229255\n",
      "The Time is :1605110763960\n",
      "The Type is :message_create\n",
      "{'recipient_id': '1184086168608088064'}\n",
      "The Text is :2 world https://t.co/BKKascpcPe\n"
     ]
    }
   ],
   "source": [
    "for massage in direct_message:\n",
    "    id = massage.id\n",
    "    print('The ID is :' + massage.id)\n",
    "    time = massage.created_timestamp\n",
    "    print('The Time is :' + massage.created_timestamp)\n",
    "    type = massage.type\n",
    "    print('The Type is :' + massage.type)\n",
    "    target = massage.message_create['target']\n",
    "    print(massage.message_create['target'])\n",
    "    text = massage.message_create['message_data']['text']\n",
    "    print('The Text is :' + massage.message_create['message_data']['text'])"
   ]
  },
  {
   "cell_type": "code",
   "execution_count": 97,
   "metadata": {},
   "outputs": [
    {
     "data": {
      "text/plain": [
       "'2'"
      ]
     },
     "execution_count": 97,
     "metadata": {},
     "output_type": "execute_result"
    }
   ],
   "source": [
    "ids"
   ]
  },
  {
   "cell_type": "markdown",
   "metadata": {},
   "source": [
    "## To append to the list "
   ]
  },
  {
   "cell_type": "code",
   "execution_count": 153,
   "metadata": {},
   "outputs": [],
   "source": [
    "tweet_id = []\n",
    "tweet_time = []\n",
    "tweet_type = []\n",
    "tweet_target = []\n",
    "tweet_text = []\n",
    "\n",
    "for massage in direct_message:\n",
    "    id = massage.id\n",
    "    tweet_id.append(id)\n",
    "    time = massage.created_timestamp\n",
    "    tweet_time.append(time)\n",
    "    type = massage.type\n",
    "    tweet_type.append(type)\n",
    "    target = massage.message_create['target']\n",
    "    tweet_target.append(target)\n",
    "    text = massage.message_create['message_data']['text']\n",
    "    tweet_text.append(text)"
   ]
  },
  {
   "cell_type": "code",
   "execution_count": 154,
   "metadata": {},
   "outputs": [
    {
     "data": {
      "text/plain": [
       "['1326954975344341000',\n",
       " '1326949920583114764',\n",
       " '1326949766803107844',\n",
       " '1326949696259182596',\n",
       " '1326949643394093076',\n",
       " '1326556889883291653',\n",
       " '1326556808178229255']"
      ]
     },
     "execution_count": 154,
     "metadata": {},
     "output_type": "execute_result"
    }
   ],
   "source": [
    "tweet_id"
   ]
  },
  {
   "cell_type": "code",
   "execution_count": 155,
   "metadata": {},
   "outputs": [
    {
     "data": {
      "text/plain": [
       "['Link for cv https://t.co/C8QfhgJSSN',\n",
       " 'وهذا ايميلي qualitymeshal@gmail.com',\n",
       " 'وهذا الايميل https://t.co/jDk49LUeBu',\n",
       " 'وهذه صوره ثانيه',\n",
       " 'هذا نص بالعربي',\n",
       " 'Just text',\n",
       " '2 world https://t.co/BKKascpcPe']"
      ]
     },
     "execution_count": 155,
     "metadata": {},
     "output_type": "execute_result"
    }
   ],
   "source": [
    "tweet_text"
   ]
  },
  {
   "cell_type": "code",
   "execution_count": 156,
   "metadata": {},
   "outputs": [],
   "source": [
    "tweet = []\n",
    "for massage in direct_message:\n",
    "    tweet.append(massage)"
   ]
  },
  {
   "cell_type": "code",
   "execution_count": 157,
   "metadata": {},
   "outputs": [
    {
     "data": {
      "text/plain": [
       "'وهذا الايميل https://t.co/jDk49LUeBu'"
      ]
     },
     "execution_count": 157,
     "metadata": {},
     "output_type": "execute_result"
    }
   ],
   "source": [
    "tweet_text[2]"
   ]
  },
  {
   "cell_type": "code",
   "execution_count": 158,
   "metadata": {},
   "outputs": [],
   "source": [
    "data = {'id' : tweet_id ,\n",
    "        'time' : tweet_time ,\n",
    "        'text' : tweet_text}\n",
    "\n",
    "\n",
    "\n",
    "df = pd.DataFrame(data,columns = ['id' ,'text'],index=[tweet_time])"
   ]
  },
  {
   "cell_type": "code",
   "execution_count": 160,
   "metadata": {},
   "outputs": [
    {
     "data": {
      "text/html": [
       "<div>\n",
       "<style scoped>\n",
       "    .dataframe tbody tr th:only-of-type {\n",
       "        vertical-align: middle;\n",
       "    }\n",
       "\n",
       "    .dataframe tbody tr th {\n",
       "        vertical-align: top;\n",
       "    }\n",
       "\n",
       "    .dataframe thead th {\n",
       "        text-align: right;\n",
       "    }\n",
       "</style>\n",
       "<table border=\"1\" class=\"dataframe\">\n",
       "  <thead>\n",
       "    <tr style=\"text-align: right;\">\n",
       "      <th></th>\n",
       "      <th>id</th>\n",
       "      <th>text</th>\n",
       "    </tr>\n",
       "  </thead>\n",
       "  <tbody>\n",
       "    <tr>\n",
       "      <th>1605205694410</th>\n",
       "      <td>1326954975344341000</td>\n",
       "      <td>Link for cv https://t.co/C8QfhgJSSN</td>\n",
       "    </tr>\n",
       "    <tr>\n",
       "      <th>1605204489261</th>\n",
       "      <td>1326949920583114764</td>\n",
       "      <td>وهذا ايميلي qualitymeshal@gmail.com</td>\n",
       "    </tr>\n",
       "    <tr>\n",
       "      <th>1605204452597</th>\n",
       "      <td>1326949766803107844</td>\n",
       "      <td>وهذا الايميل https://t.co/jDk49LUeBu</td>\n",
       "    </tr>\n",
       "    <tr>\n",
       "      <th>1605204435778</th>\n",
       "      <td>1326949696259182596</td>\n",
       "      <td>وهذه صوره ثانيه</td>\n",
       "    </tr>\n",
       "    <tr>\n",
       "      <th>1605204423174</th>\n",
       "      <td>1326949643394093076</td>\n",
       "      <td>هذا نص بالعربي</td>\n",
       "    </tr>\n",
       "    <tr>\n",
       "      <th>1605110783440</th>\n",
       "      <td>1326556889883291653</td>\n",
       "      <td>Just text</td>\n",
       "    </tr>\n",
       "    <tr>\n",
       "      <th>1605110763960</th>\n",
       "      <td>1326556808178229255</td>\n",
       "      <td>2 world https://t.co/BKKascpcPe</td>\n",
       "    </tr>\n",
       "  </tbody>\n",
       "</table>\n",
       "</div>"
      ],
      "text/plain": [
       "                                id                                  text\n",
       "1605205694410  1326954975344341000   Link for cv https://t.co/C8QfhgJSSN\n",
       "1605204489261  1326949920583114764   وهذا ايميلي qualitymeshal@gmail.com\n",
       "1605204452597  1326949766803107844  وهذا الايميل https://t.co/jDk49LUeBu\n",
       "1605204435778  1326949696259182596                       وهذه صوره ثانيه\n",
       "1605204423174  1326949643394093076                        هذا نص بالعربي\n",
       "1605110783440  1326556889883291653                             Just text\n",
       "1605110763960  1326556808178229255       2 world https://t.co/BKKascpcPe"
      ]
     },
     "execution_count": 160,
     "metadata": {},
     "output_type": "execute_result"
    }
   ],
   "source": [
    "df"
   ]
  },
  {
   "cell_type": "markdown",
   "metadata": {},
   "source": [
    "## Check Point"
   ]
  },
  {
   "cell_type": "code",
   "execution_count": 142,
   "metadata": {},
   "outputs": [],
   "source": [
    "all_dm = df.copy()"
   ]
  }
 ],
 "metadata": {
  "kernelspec": {
   "display_name": "Python 3",
   "language": "python",
   "name": "python3"
  },
  "language_info": {
   "codemirror_mode": {
    "name": "ipython",
    "version": 3
   },
   "file_extension": ".py",
   "mimetype": "text/x-python",
   "name": "python",
   "nbconvert_exporter": "python",
   "pygments_lexer": "ipython3",
   "version": "3.8.1"
  }
 },
 "nbformat": 4,
 "nbformat_minor": 4
}
